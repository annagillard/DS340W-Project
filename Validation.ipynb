{
  "nbformat": 4,
  "nbformat_minor": 0,
  "metadata": {
    "colab": {
      "provenance": []
    },
    "kernelspec": {
      "name": "python3",
      "display_name": "Python 3"
    },
    "language_info": {
      "name": "python"
    }
  },
  "cells": [
    {
      "cell_type": "code",
      "source": [
        "from google.colab import drive\n",
        "drive.mount('/content/drive')"
      ],
      "metadata": {
        "colab": {
          "base_uri": "https://localhost:8080/"
        },
        "id": "iiGlpS5-3NTy",
        "outputId": "53d685ad-4423-40a1-ef0a-dabe5462f555"
      },
      "execution_count": null,
      "outputs": [
        {
          "output_type": "stream",
          "name": "stdout",
          "text": [
            "Drive already mounted at /content/drive; to attempt to forcibly remount, call drive.mount(\"/content/drive\", force_remount=True).\n"
          ]
        }
      ]
    },
    {
      "cell_type": "code",
      "source": [
        "import numpy as np\n",
        "from sklearn.model_selection import train_test_split\n",
        "from imblearn.over_sampling import RandomOverSampler\n",
        "from imblearn.under_sampling import RandomUnderSampler\n",
        "from sklearn.ensemble import RandomForestClassifier\n",
        "from sklearn.naive_bayes import GaussianNB\n",
        "from sklearn.neighbors import KNeighborsClassifier\n",
        "from sklearn.metrics import accuracy_score, classification_report"
      ],
      "metadata": {
        "id": "eODnd61KNVky"
      },
      "execution_count": null,
      "outputs": []
    },
    {
      "cell_type": "code",
      "source": [
        "import pandas as pd\n",
        "\n",
        "data =pd.read_csv(\"drive/My Drive/creditcard.csv\")\n",
        "data.head()"
      ],
      "metadata": {
        "colab": {
          "base_uri": "https://localhost:8080/",
          "height": 255
        },
        "id": "jiSUvkK53KWJ",
        "outputId": "46c2cb43-216a-4a31-8cf6-990214e64fcb"
      },
      "execution_count": null,
      "outputs": [
        {
          "output_type": "execute_result",
          "data": {
            "text/plain": [
              "   Time        V1        V2        V3        V4        V5        V6        V7  \\\n",
              "0   0.0 -1.359807 -0.072781  2.536347  1.378155 -0.338321  0.462388  0.239599   \n",
              "1   0.0  1.191857  0.266151  0.166480  0.448154  0.060018 -0.082361 -0.078803   \n",
              "2   1.0 -1.358354 -1.340163  1.773209  0.379780 -0.503198  1.800499  0.791461   \n",
              "3   1.0 -0.966272 -0.185226  1.792993 -0.863291 -0.010309  1.247203  0.237609   \n",
              "4   2.0 -1.158233  0.877737  1.548718  0.403034 -0.407193  0.095921  0.592941   \n",
              "\n",
              "         V8        V9  ...       V21       V22       V23       V24       V25  \\\n",
              "0  0.098698  0.363787  ... -0.018307  0.277838 -0.110474  0.066928  0.128539   \n",
              "1  0.085102 -0.255425  ... -0.225775 -0.638672  0.101288 -0.339846  0.167170   \n",
              "2  0.247676 -1.514654  ...  0.247998  0.771679  0.909412 -0.689281 -0.327642   \n",
              "3  0.377436 -1.387024  ... -0.108300  0.005274 -0.190321 -1.175575  0.647376   \n",
              "4 -0.270533  0.817739  ... -0.009431  0.798278 -0.137458  0.141267 -0.206010   \n",
              "\n",
              "        V26       V27       V28  Amount  Class  \n",
              "0 -0.189115  0.133558 -0.021053  149.62      0  \n",
              "1  0.125895 -0.008983  0.014724    2.69      0  \n",
              "2 -0.139097 -0.055353 -0.059752  378.66      0  \n",
              "3 -0.221929  0.062723  0.061458  123.50      0  \n",
              "4  0.502292  0.219422  0.215153   69.99      0  \n",
              "\n",
              "[5 rows x 31 columns]"
            ],
            "text/html": [
              "\n",
              "  <div id=\"df-4e6327ec-b020-412c-b182-926558db4cab\" class=\"colab-df-container\">\n",
              "    <div>\n",
              "<style scoped>\n",
              "    .dataframe tbody tr th:only-of-type {\n",
              "        vertical-align: middle;\n",
              "    }\n",
              "\n",
              "    .dataframe tbody tr th {\n",
              "        vertical-align: top;\n",
              "    }\n",
              "\n",
              "    .dataframe thead th {\n",
              "        text-align: right;\n",
              "    }\n",
              "</style>\n",
              "<table border=\"1\" class=\"dataframe\">\n",
              "  <thead>\n",
              "    <tr style=\"text-align: right;\">\n",
              "      <th></th>\n",
              "      <th>Time</th>\n",
              "      <th>V1</th>\n",
              "      <th>V2</th>\n",
              "      <th>V3</th>\n",
              "      <th>V4</th>\n",
              "      <th>V5</th>\n",
              "      <th>V6</th>\n",
              "      <th>V7</th>\n",
              "      <th>V8</th>\n",
              "      <th>V9</th>\n",
              "      <th>...</th>\n",
              "      <th>V21</th>\n",
              "      <th>V22</th>\n",
              "      <th>V23</th>\n",
              "      <th>V24</th>\n",
              "      <th>V25</th>\n",
              "      <th>V26</th>\n",
              "      <th>V27</th>\n",
              "      <th>V28</th>\n",
              "      <th>Amount</th>\n",
              "      <th>Class</th>\n",
              "    </tr>\n",
              "  </thead>\n",
              "  <tbody>\n",
              "    <tr>\n",
              "      <th>0</th>\n",
              "      <td>0.0</td>\n",
              "      <td>-1.359807</td>\n",
              "      <td>-0.072781</td>\n",
              "      <td>2.536347</td>\n",
              "      <td>1.378155</td>\n",
              "      <td>-0.338321</td>\n",
              "      <td>0.462388</td>\n",
              "      <td>0.239599</td>\n",
              "      <td>0.098698</td>\n",
              "      <td>0.363787</td>\n",
              "      <td>...</td>\n",
              "      <td>-0.018307</td>\n",
              "      <td>0.277838</td>\n",
              "      <td>-0.110474</td>\n",
              "      <td>0.066928</td>\n",
              "      <td>0.128539</td>\n",
              "      <td>-0.189115</td>\n",
              "      <td>0.133558</td>\n",
              "      <td>-0.021053</td>\n",
              "      <td>149.62</td>\n",
              "      <td>0</td>\n",
              "    </tr>\n",
              "    <tr>\n",
              "      <th>1</th>\n",
              "      <td>0.0</td>\n",
              "      <td>1.191857</td>\n",
              "      <td>0.266151</td>\n",
              "      <td>0.166480</td>\n",
              "      <td>0.448154</td>\n",
              "      <td>0.060018</td>\n",
              "      <td>-0.082361</td>\n",
              "      <td>-0.078803</td>\n",
              "      <td>0.085102</td>\n",
              "      <td>-0.255425</td>\n",
              "      <td>...</td>\n",
              "      <td>-0.225775</td>\n",
              "      <td>-0.638672</td>\n",
              "      <td>0.101288</td>\n",
              "      <td>-0.339846</td>\n",
              "      <td>0.167170</td>\n",
              "      <td>0.125895</td>\n",
              "      <td>-0.008983</td>\n",
              "      <td>0.014724</td>\n",
              "      <td>2.69</td>\n",
              "      <td>0</td>\n",
              "    </tr>\n",
              "    <tr>\n",
              "      <th>2</th>\n",
              "      <td>1.0</td>\n",
              "      <td>-1.358354</td>\n",
              "      <td>-1.340163</td>\n",
              "      <td>1.773209</td>\n",
              "      <td>0.379780</td>\n",
              "      <td>-0.503198</td>\n",
              "      <td>1.800499</td>\n",
              "      <td>0.791461</td>\n",
              "      <td>0.247676</td>\n",
              "      <td>-1.514654</td>\n",
              "      <td>...</td>\n",
              "      <td>0.247998</td>\n",
              "      <td>0.771679</td>\n",
              "      <td>0.909412</td>\n",
              "      <td>-0.689281</td>\n",
              "      <td>-0.327642</td>\n",
              "      <td>-0.139097</td>\n",
              "      <td>-0.055353</td>\n",
              "      <td>-0.059752</td>\n",
              "      <td>378.66</td>\n",
              "      <td>0</td>\n",
              "    </tr>\n",
              "    <tr>\n",
              "      <th>3</th>\n",
              "      <td>1.0</td>\n",
              "      <td>-0.966272</td>\n",
              "      <td>-0.185226</td>\n",
              "      <td>1.792993</td>\n",
              "      <td>-0.863291</td>\n",
              "      <td>-0.010309</td>\n",
              "      <td>1.247203</td>\n",
              "      <td>0.237609</td>\n",
              "      <td>0.377436</td>\n",
              "      <td>-1.387024</td>\n",
              "      <td>...</td>\n",
              "      <td>-0.108300</td>\n",
              "      <td>0.005274</td>\n",
              "      <td>-0.190321</td>\n",
              "      <td>-1.175575</td>\n",
              "      <td>0.647376</td>\n",
              "      <td>-0.221929</td>\n",
              "      <td>0.062723</td>\n",
              "      <td>0.061458</td>\n",
              "      <td>123.50</td>\n",
              "      <td>0</td>\n",
              "    </tr>\n",
              "    <tr>\n",
              "      <th>4</th>\n",
              "      <td>2.0</td>\n",
              "      <td>-1.158233</td>\n",
              "      <td>0.877737</td>\n",
              "      <td>1.548718</td>\n",
              "      <td>0.403034</td>\n",
              "      <td>-0.407193</td>\n",
              "      <td>0.095921</td>\n",
              "      <td>0.592941</td>\n",
              "      <td>-0.270533</td>\n",
              "      <td>0.817739</td>\n",
              "      <td>...</td>\n",
              "      <td>-0.009431</td>\n",
              "      <td>0.798278</td>\n",
              "      <td>-0.137458</td>\n",
              "      <td>0.141267</td>\n",
              "      <td>-0.206010</td>\n",
              "      <td>0.502292</td>\n",
              "      <td>0.219422</td>\n",
              "      <td>0.215153</td>\n",
              "      <td>69.99</td>\n",
              "      <td>0</td>\n",
              "    </tr>\n",
              "  </tbody>\n",
              "</table>\n",
              "<p>5 rows × 31 columns</p>\n",
              "</div>\n",
              "    <div class=\"colab-df-buttons\">\n",
              "\n",
              "  <div class=\"colab-df-container\">\n",
              "    <button class=\"colab-df-convert\" onclick=\"convertToInteractive('df-4e6327ec-b020-412c-b182-926558db4cab')\"\n",
              "            title=\"Convert this dataframe to an interactive table.\"\n",
              "            style=\"display:none;\">\n",
              "\n",
              "  <svg xmlns=\"http://www.w3.org/2000/svg\" height=\"24px\" viewBox=\"0 -960 960 960\">\n",
              "    <path d=\"M120-120v-720h720v720H120Zm60-500h600v-160H180v160Zm220 220h160v-160H400v160Zm0 220h160v-160H400v160ZM180-400h160v-160H180v160Zm440 0h160v-160H620v160ZM180-180h160v-160H180v160Zm440 0h160v-160H620v160Z\"/>\n",
              "  </svg>\n",
              "    </button>\n",
              "\n",
              "  <style>\n",
              "    .colab-df-container {\n",
              "      display:flex;\n",
              "      gap: 12px;\n",
              "    }\n",
              "\n",
              "    .colab-df-convert {\n",
              "      background-color: #E8F0FE;\n",
              "      border: none;\n",
              "      border-radius: 50%;\n",
              "      cursor: pointer;\n",
              "      display: none;\n",
              "      fill: #1967D2;\n",
              "      height: 32px;\n",
              "      padding: 0 0 0 0;\n",
              "      width: 32px;\n",
              "    }\n",
              "\n",
              "    .colab-df-convert:hover {\n",
              "      background-color: #E2EBFA;\n",
              "      box-shadow: 0px 1px 2px rgba(60, 64, 67, 0.3), 0px 1px 3px 1px rgba(60, 64, 67, 0.15);\n",
              "      fill: #174EA6;\n",
              "    }\n",
              "\n",
              "    .colab-df-buttons div {\n",
              "      margin-bottom: 4px;\n",
              "    }\n",
              "\n",
              "    [theme=dark] .colab-df-convert {\n",
              "      background-color: #3B4455;\n",
              "      fill: #D2E3FC;\n",
              "    }\n",
              "\n",
              "    [theme=dark] .colab-df-convert:hover {\n",
              "      background-color: #434B5C;\n",
              "      box-shadow: 0px 1px 3px 1px rgba(0, 0, 0, 0.15);\n",
              "      filter: drop-shadow(0px 1px 2px rgba(0, 0, 0, 0.3));\n",
              "      fill: #FFFFFF;\n",
              "    }\n",
              "  </style>\n",
              "\n",
              "    <script>\n",
              "      const buttonEl =\n",
              "        document.querySelector('#df-4e6327ec-b020-412c-b182-926558db4cab button.colab-df-convert');\n",
              "      buttonEl.style.display =\n",
              "        google.colab.kernel.accessAllowed ? 'block' : 'none';\n",
              "\n",
              "      async function convertToInteractive(key) {\n",
              "        const element = document.querySelector('#df-4e6327ec-b020-412c-b182-926558db4cab');\n",
              "        const dataTable =\n",
              "          await google.colab.kernel.invokeFunction('convertToInteractive',\n",
              "                                                    [key], {});\n",
              "        if (!dataTable) return;\n",
              "\n",
              "        const docLinkHtml = 'Like what you see? Visit the ' +\n",
              "          '<a target=\"_blank\" href=https://colab.research.google.com/notebooks/data_table.ipynb>data table notebook</a>'\n",
              "          + ' to learn more about interactive tables.';\n",
              "        element.innerHTML = '';\n",
              "        dataTable['output_type'] = 'display_data';\n",
              "        await google.colab.output.renderOutput(dataTable, element);\n",
              "        const docLink = document.createElement('div');\n",
              "        docLink.innerHTML = docLinkHtml;\n",
              "        element.appendChild(docLink);\n",
              "      }\n",
              "    </script>\n",
              "  </div>\n",
              "\n",
              "\n",
              "<div id=\"df-8b6d7da2-6394-47d3-a301-cad10d55ece8\">\n",
              "  <button class=\"colab-df-quickchart\" onclick=\"quickchart('df-8b6d7da2-6394-47d3-a301-cad10d55ece8')\"\n",
              "            title=\"Suggest charts\"\n",
              "            style=\"display:none;\">\n",
              "\n",
              "<svg xmlns=\"http://www.w3.org/2000/svg\" height=\"24px\"viewBox=\"0 0 24 24\"\n",
              "     width=\"24px\">\n",
              "    <g>\n",
              "        <path d=\"M19 3H5c-1.1 0-2 .9-2 2v14c0 1.1.9 2 2 2h14c1.1 0 2-.9 2-2V5c0-1.1-.9-2-2-2zM9 17H7v-7h2v7zm4 0h-2V7h2v10zm4 0h-2v-4h2v4z\"/>\n",
              "    </g>\n",
              "</svg>\n",
              "  </button>\n",
              "\n",
              "<style>\n",
              "  .colab-df-quickchart {\n",
              "      --bg-color: #E8F0FE;\n",
              "      --fill-color: #1967D2;\n",
              "      --hover-bg-color: #E2EBFA;\n",
              "      --hover-fill-color: #174EA6;\n",
              "      --disabled-fill-color: #AAA;\n",
              "      --disabled-bg-color: #DDD;\n",
              "  }\n",
              "\n",
              "  [theme=dark] .colab-df-quickchart {\n",
              "      --bg-color: #3B4455;\n",
              "      --fill-color: #D2E3FC;\n",
              "      --hover-bg-color: #434B5C;\n",
              "      --hover-fill-color: #FFFFFF;\n",
              "      --disabled-bg-color: #3B4455;\n",
              "      --disabled-fill-color: #666;\n",
              "  }\n",
              "\n",
              "  .colab-df-quickchart {\n",
              "    background-color: var(--bg-color);\n",
              "    border: none;\n",
              "    border-radius: 50%;\n",
              "    cursor: pointer;\n",
              "    display: none;\n",
              "    fill: var(--fill-color);\n",
              "    height: 32px;\n",
              "    padding: 0;\n",
              "    width: 32px;\n",
              "  }\n",
              "\n",
              "  .colab-df-quickchart:hover {\n",
              "    background-color: var(--hover-bg-color);\n",
              "    box-shadow: 0 1px 2px rgba(60, 64, 67, 0.3), 0 1px 3px 1px rgba(60, 64, 67, 0.15);\n",
              "    fill: var(--button-hover-fill-color);\n",
              "  }\n",
              "\n",
              "  .colab-df-quickchart-complete:disabled,\n",
              "  .colab-df-quickchart-complete:disabled:hover {\n",
              "    background-color: var(--disabled-bg-color);\n",
              "    fill: var(--disabled-fill-color);\n",
              "    box-shadow: none;\n",
              "  }\n",
              "\n",
              "  .colab-df-spinner {\n",
              "    border: 2px solid var(--fill-color);\n",
              "    border-color: transparent;\n",
              "    border-bottom-color: var(--fill-color);\n",
              "    animation:\n",
              "      spin 1s steps(1) infinite;\n",
              "  }\n",
              "\n",
              "  @keyframes spin {\n",
              "    0% {\n",
              "      border-color: transparent;\n",
              "      border-bottom-color: var(--fill-color);\n",
              "      border-left-color: var(--fill-color);\n",
              "    }\n",
              "    20% {\n",
              "      border-color: transparent;\n",
              "      border-left-color: var(--fill-color);\n",
              "      border-top-color: var(--fill-color);\n",
              "    }\n",
              "    30% {\n",
              "      border-color: transparent;\n",
              "      border-left-color: var(--fill-color);\n",
              "      border-top-color: var(--fill-color);\n",
              "      border-right-color: var(--fill-color);\n",
              "    }\n",
              "    40% {\n",
              "      border-color: transparent;\n",
              "      border-right-color: var(--fill-color);\n",
              "      border-top-color: var(--fill-color);\n",
              "    }\n",
              "    60% {\n",
              "      border-color: transparent;\n",
              "      border-right-color: var(--fill-color);\n",
              "    }\n",
              "    80% {\n",
              "      border-color: transparent;\n",
              "      border-right-color: var(--fill-color);\n",
              "      border-bottom-color: var(--fill-color);\n",
              "    }\n",
              "    90% {\n",
              "      border-color: transparent;\n",
              "      border-bottom-color: var(--fill-color);\n",
              "    }\n",
              "  }\n",
              "</style>\n",
              "\n",
              "  <script>\n",
              "    async function quickchart(key) {\n",
              "      const quickchartButtonEl =\n",
              "        document.querySelector('#' + key + ' button');\n",
              "      quickchartButtonEl.disabled = true;  // To prevent multiple clicks.\n",
              "      quickchartButtonEl.classList.add('colab-df-spinner');\n",
              "      try {\n",
              "        const charts = await google.colab.kernel.invokeFunction(\n",
              "            'suggestCharts', [key], {});\n",
              "      } catch (error) {\n",
              "        console.error('Error during call to suggestCharts:', error);\n",
              "      }\n",
              "      quickchartButtonEl.classList.remove('colab-df-spinner');\n",
              "      quickchartButtonEl.classList.add('colab-df-quickchart-complete');\n",
              "    }\n",
              "    (() => {\n",
              "      let quickchartButtonEl =\n",
              "        document.querySelector('#df-8b6d7da2-6394-47d3-a301-cad10d55ece8 button');\n",
              "      quickchartButtonEl.style.display =\n",
              "        google.colab.kernel.accessAllowed ? 'block' : 'none';\n",
              "    })();\n",
              "  </script>\n",
              "</div>\n",
              "    </div>\n",
              "  </div>\n"
            ]
          },
          "metadata": {},
          "execution_count": 40
        }
      ]
    },
    {
      "cell_type": "code",
      "source": [
        "fraud = data[data['Class'] == 1]\n",
        "valid = data[data['Class'] == 0]\n",
        "outlierFraction = len(fraud)/float(len(valid))\n",
        "print(outlierFraction)\n",
        "print('Fraud Cases: {}'.format(len(data[data['Class'] == 1])))\n",
        "print('Valid Transaction: {}'.format(len(data[data['Class'] == 0])))"
      ],
      "metadata": {
        "colab": {
          "base_uri": "https://localhost:8080/"
        },
        "id": "y5-jf_xr3S6G",
        "outputId": "c533a01a-8500-449c-f91a-dec01d2c667d"
      },
      "execution_count": null,
      "outputs": [
        {
          "output_type": "stream",
          "name": "stdout",
          "text": [
            "0.0017304750013189597\n",
            "Fraud Cases: 492\n",
            "Valid Transaction: 284315\n"
          ]
        }
      ]
    },
    {
      "cell_type": "code",
      "source": [
        "X = data.drop(['Class'], axis=1)\n",
        "y = data['Class']\n",
        "print(X.shape)\n",
        "print(y.shape)\n",
        "\n",
        "xData = X.values\n",
        "yData = y.values"
      ],
      "metadata": {
        "colab": {
          "base_uri": "https://localhost:8080/"
        },
        "id": "5jhdLB4j3eQ6",
        "outputId": "86065960-c692-4c28-8385-a93deee4e28d"
      },
      "execution_count": null,
      "outputs": [
        {
          "output_type": "stream",
          "name": "stdout",
          "text": [
            "(284807, 30)\n",
            "(284807,)\n"
          ]
        }
      ]
    },
    {
      "cell_type": "markdown",
      "source": [
        "More packages:"
      ],
      "metadata": {
        "id": "QY4jWa26JI_8"
      }
    },
    {
      "cell_type": "code",
      "source": [
        "from sklearn.metrics import classification_report, accuracy_score\n",
        "from sklearn.metrics import precision_score, recall_score\n",
        "from sklearn.metrics import f1_score, matthews_corrcoef\n",
        "from sklearn.metrics import confusion_matrix\n",
        "import matplotlib.pyplot as plt\n",
        "import seaborn as sns\n",
        "from matplotlib import gridspec"
      ],
      "metadata": {
        "id": "5EeiSunTJJug"
      },
      "execution_count": null,
      "outputs": []
    },
    {
      "cell_type": "markdown",
      "source": [
        "Splitting up dataset:"
      ],
      "metadata": {
        "id": "sSgXleX1G7VC"
      }
    },
    {
      "cell_type": "code",
      "source": [
        "# Split the original data into training and testing sets\n",
        "X_train_full, X_test, y_train_full, y_test = train_test_split(X, y, test_size=0.2, random_state=42)\n",
        "\n",
        "# Random Oversampling\n",
        "ros = RandomOverSampler(random_state=42)\n",
        "X_resampled_over, y_resampled_over = ros.fit_resample(X_train_full, y_train_full)\n",
        "\n",
        "# Random Undersampling\n",
        "rus = RandomUnderSampler(random_state=42)\n",
        "X_resampled_under, y_resampled_under = rus.fit_resample(X_train_full, y_train_full)\n",
        "\n",
        "# Split the oversampled dataset into training and validation sets\n",
        "X_train_over, X_val_over, y_train_over, y_val_over = train_test_split(X_resampled_over, y_resampled_over, test_size=0.2, random_state=42)\n",
        "\n",
        "# Split the undersampled dataset into training and validation sets\n",
        "X_train_under, X_val_under, y_train_under, y_val_under = train_test_split(X_resampled_under, y_resampled_under, test_size=0.2, random_state=42)\n"
      ],
      "metadata": {
        "id": "LiATZUk1HEhm"
      },
      "execution_count": null,
      "outputs": []
    },
    {
      "cell_type": "markdown",
      "source": [
        "Random Forest:"
      ],
      "metadata": {
        "id": "oKZ_UjBOHFKd"
      }
    },
    {
      "cell_type": "code",
      "source": [
        "# Random Forest on Oversampled Data\n",
        "rf_classifier_over = RandomForestClassifier(random_state=42)\n",
        "rf_classifier_over.fit(X_train_over, y_train_over)\n",
        "y_pred_val_over_rf = rf_classifier_over.predict(X_val_over)\n",
        "accuracy_val_over_rf = accuracy_score(y_val_over, y_pred_val_over_rf)\n",
        "print(\"Random Forest on Oversampled Data - Validation Accuracy:\", accuracy_val_over_rf)\n",
        "\n",
        "# Random Forest on Undersampled Data\n",
        "rf_classifier_under = RandomForestClassifier(random_state=42)\n",
        "rf_classifier_under.fit(X_train_under, y_train_under)\n",
        "y_pred_val_under_rf = rf_classifier_under.predict(X_val_under)\n",
        "accuracy_val_under_rf = accuracy_score(y_val_under, y_pred_val_under_rf)\n",
        "print(\"Random Forest on Undersampled Data - Validation Accuracy:\", accuracy_val_under_rf)"
      ],
      "metadata": {
        "colab": {
          "base_uri": "https://localhost:8080/"
        },
        "id": "KUD3smcfHKRV",
        "outputId": "d3ffd385-f3cc-41e2-dfc4-929c6f63f3b7"
      },
      "execution_count": null,
      "outputs": [
        {
          "output_type": "stream",
          "name": "stdout",
          "text": [
            "Random Forest on Oversampled Data - Validation Accuracy: 0.9999780173882459\n",
            "Random Forest on Undersampled Data - Validation Accuracy: 0.930379746835443\n"
          ]
        }
      ]
    },
    {
      "cell_type": "code",
      "source": [
        "# Random Forest on Oversampled Data\n",
        "y_pred_test_rf_over = rf_classifier_over.predict(X_test)\n",
        "accuracy_test_rf_over = accuracy_score(y_test, y_pred_test_rf_over)\n",
        "report_test_rf_over = classification_report(y_test, y_pred_test_rf_over)\n",
        "print(\"Random Forest on Oversampled Data - Test Accuracy:\", accuracy_test_rf_over)\n",
        "#print(\"Random Forest on Oversampled Data - Test Classification Report:\\n\", report_test_rf_over)\n",
        "\n",
        "# Random Forest on Undersampled Data\n",
        "y_pred_test_rf_under = rf_classifier_under.predict(X_test)\n",
        "accuracy_test_rf_under = accuracy_score(y_test, y_pred_test_rf_under)\n",
        "report_test_rf_under = classification_report(y_test, y_pred_test_rf_under)\n",
        "print(\"Random Forest on Undersampled Data - Test Accuracy:\", accuracy_test_rf_under)\n",
        "#print(\"Random Forest on Undersampled Data - Test Classification Report:\\n\", report_test_rf_under)"
      ],
      "metadata": {
        "colab": {
          "base_uri": "https://localhost:8080/"
        },
        "id": "H8eKqELHHXxz",
        "outputId": "9e8cd88e-5f33-4c7f-9adf-d8cc40082751"
      },
      "execution_count": null,
      "outputs": [
        {
          "output_type": "stream",
          "name": "stdout",
          "text": [
            "Random Forest on Oversampled Data - Test Accuracy: 0.9996313331694814\n",
            "Random Forest on Undersampled Data - Test Accuracy: 0.9662933183525859\n"
          ]
        }
      ]
    },
    {
      "cell_type": "code",
      "source": [
        "# K-nearest neighbors on Oversampled Data\n",
        "knn_classifier_over = KNeighborsClassifier()\n",
        "knn_classifier_over.fit(X_train_over, y_train_over)\n",
        "y_pred_val_over_knn = knn_classifier_over.predict(X_val_over)\n",
        "accuracy_val_over_knn = accuracy_score(y_val_over, y_pred_val_over_knn)\n",
        "print(\"K-nearest neighbors on Oversampled Data - Validation Accuracy:\", accuracy_val_over_knn)\n",
        "\n",
        "# K-nearest neighbors on Undersampled Data\n",
        "knn_classifier_under = KNeighborsClassifier()\n",
        "knn_classifier_under.fit(X_train_under, y_train_under)\n",
        "y_pred_val_under_knn = knn_classifier_under.predict(X_val_under)\n",
        "accuracy_val_under_knn = accuracy_score(y_val_under, y_pred_val_under_knn)\n",
        "print(\"K-nearest neighbors on Undersampled Data - Validation Accuracy:\", accuracy_val_under_knn)"
      ],
      "metadata": {
        "colab": {
          "base_uri": "https://localhost:8080/"
        },
        "id": "tfpSbpnfHL_-",
        "outputId": "4946e668-5a42-4094-8698-38f96116db10"
      },
      "execution_count": null,
      "outputs": [
        {
          "output_type": "stream",
          "name": "stdout",
          "text": [
            "K-nearest neighbors on Oversampled Data - Validation Accuracy: 0.9990327650828195\n",
            "K-nearest neighbors on Undersampled Data - Validation Accuracy: 0.6265822784810127\n"
          ]
        }
      ]
    },
    {
      "cell_type": "code",
      "source": [
        "# K-nearest neighbors on Oversampled Data\n",
        "y_pred_test_knn_over = knn_classifier_over.predict(X_test)\n",
        "accuracy_test_knn_over = accuracy_score(y_test, y_pred_test_knn_over)\n",
        "report_test_knn_over = classification_report(y_test, y_pred_test_knn_over)\n",
        "print(\"K-nearest neighbors on Oversampled Data - Test Accuracy:\", accuracy_test_knn_over)\n",
        "#print(\"K-nearest neighbors on Oversampled Data - Test Classification Report:\\n\", report_test_knn_over)\n",
        "\n",
        "# K-nearest neighbors on Undersampled Data\n",
        "y_pred_test_knn_under = knn_classifier_under.predict(X_test)\n",
        "accuracy_test_knn_under = accuracy_score(y_test, y_pred_test_knn_under)\n",
        "report_test_knn_under = classification_report(y_test, y_pred_test_knn_under)\n",
        "print(\"K-nearest neighbors on Undersampled Data - Test Accuracy:\", accuracy_test_knn_under)\n",
        "#print(\"K-nearest neighbors on Undersampled Data - Test Classification Report:\\n\", report_test_knn_under)"
      ],
      "metadata": {
        "colab": {
          "base_uri": "https://localhost:8080/"
        },
        "id": "3og1XnwfHbyo",
        "outputId": "bb8d0b73-f520-4f64-c8ab-c30d872834be"
      },
      "execution_count": null,
      "outputs": [
        {
          "output_type": "stream",
          "name": "stdout",
          "text": [
            "K-nearest neighbors on Oversampled Data - Test Accuracy: 0.9967522207787648\n",
            "K-nearest neighbors on Undersampled Data - Test Accuracy: 0.6235384993504441\n"
          ]
        }
      ]
    },
    {
      "cell_type": "markdown",
      "source": [
        "Naive Bayes:"
      ],
      "metadata": {
        "id": "AovkcGIpHP_q"
      }
    },
    {
      "cell_type": "code",
      "source": [
        "# Naive Bayes on Oversampled Data\n",
        "nb_classifier_over = GaussianNB()\n",
        "nb_classifier_over.fit(X_train_over, y_train_over)\n",
        "y_pred_val_over_nb = nb_classifier_over.predict(X_val_over)\n",
        "accuracy_val_over_nb = accuracy_score(y_val_over, y_pred_val_over_nb)\n",
        "print(\"Naive Bayes on Oversampled Data - Validation Accuracy:\", accuracy_val_over_nb)\n",
        "\n",
        "# Naive Bayes on Undersampled Data\n",
        "nb_classifier_under = GaussianNB()\n",
        "nb_classifier_under.fit(X_train_under, y_train_under)\n",
        "y_pred_val_under_nb = nb_classifier_under.predict(X_val_under)\n",
        "accuracy_val_under_nb = accuracy_score(y_val_under, y_pred_val_under_nb)\n",
        "print(\"Naive Bayes on Undersampled Data - Validation Accuracy:\", accuracy_val_under_nb)"
      ],
      "metadata": {
        "colab": {
          "base_uri": "https://localhost:8080/"
        },
        "id": "m1sNWbbwHRW6",
        "outputId": "efc6e4d9-12c5-4678-ea6c-14c9ca0a50f7"
      },
      "execution_count": null,
      "outputs": [
        {
          "output_type": "stream",
          "name": "stdout",
          "text": [
            "Naive Bayes on Oversampled Data - Validation Accuracy: 0.8782383134940263\n",
            "Naive Bayes on Undersampled Data - Validation Accuracy: 0.8734177215189873\n"
          ]
        }
      ]
    },
    {
      "cell_type": "code",
      "source": [
        "# Naive Bayes on Oversampled Data\n",
        "y_pred_test_nb_over = nb_classifier_over.predict(X_test)\n",
        "accuracy_test_nb_over = accuracy_score(y_test, y_pred_test_nb_over)\n",
        "report_test_nb_over = classification_report(y_test, y_pred_test_nb_over)\n",
        "print(\"Naive Bayes on Oversampled Data - Test Accuracy:\", accuracy_test_nb_over)\n",
        "#print(\"Naive Bayes on Oversampled Data - Test Classification Report:\\n\", report_test_nb_over)\n",
        "\n",
        "# Naive Bayes on Undersampled Data\n",
        "y_pred_test_nb_under = nb_classifier_under.predict(X_test)\n",
        "accuracy_test_nb_under = accuracy_score(y_test, y_pred_test_nb_under)\n",
        "report_test_nb_under = classification_report(y_test, y_pred_test_nb_under)\n",
        "print(\"Naive Bayes on Undersampled Data - Test Accuracy:\", accuracy_test_nb_under)\n",
        "#print(\"Naive Bayes on Undersampled Data - Test Classification Report:\\n\", report_test_nb_under)"
      ],
      "metadata": {
        "colab": {
          "base_uri": "https://localhost:8080/"
        },
        "id": "7vTdvuV3He-P",
        "outputId": "2050bceb-94ec-4df9-a7a2-6e2e0967298d"
      },
      "execution_count": null,
      "outputs": [
        {
          "output_type": "stream",
          "name": "stdout",
          "text": [
            "Naive Bayes on Oversampled Data - Test Accuracy: 0.9911871071942698\n",
            "Naive Bayes on Undersampled Data - Test Accuracy: 0.9810224360099715\n"
          ]
        }
      ]
    }
  ]
}